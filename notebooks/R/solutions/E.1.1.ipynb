{
  "nbformat": 4,
  "nbformat_minor": 0,
  "metadata": {
    "colab": {
      "name": "E.1.1.ipynb",
      "provenance": []
    },
    "kernelspec": {
      "name": "ir",
      "display_name": "R"
    },
    "accelerator": "GPU"
  },
  "cells": [
    {
      "cell_type": "code",
      "metadata": {
        "id": "DVGashPhAkOa"
      },
      "source": [
        "# Create model\n",
        "model <- keras_model_sequential() %>%\n",
        "    layer_dense(units = 1, input_shape = 1)\n",
        "\n",
        "# Compile model\n",
        "model %>%\n",
        "    compile(optimizer = optimizer_adam(0.1), \n",
        "    loss='mean_squared_error')\n",
        "\n",
        "# Fit model\n",
        "history <- model %>% fit(\n",
        "    x = x_set, \n",
        "    y = y_set,\n",
        "    epochs = 500\n",
        ")"
      ],
      "execution_count": null,
      "outputs": []
    }
  ]
}