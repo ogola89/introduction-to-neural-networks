{
  "nbformat": 4,
  "nbformat_minor": 0,
  "metadata": {
    "colab": {
      "name": "E.3.1.ipynb",
      "provenance": []
    },
    "kernelspec": {
      "name": "ir",
      "display_name": "R"
    },
    "accelerator": "GPU"
  },
  "cells": [
    {
      "cell_type": "code",
      "metadata": {
        "id": "DVGashPhAkOa"
      },
      "source": [
        "model <- keras_model_sequential()\n",
        "model %>% \n",
        "  layer_conv_2d(filters = 32, kernel_size = c(3,3), padding = 'same', \n",
        "    activation = 'relu', input_shape = c(28, 28, 1)) %>%\n",
        "  layer_max_pooling_2d(pool_size = c(2, 2), strides = 2) %>%\n",
        "  layer_conv_2d(filters = 64, kernel_size = c(3,3), padding = 'same', \n",
        "    activation = 'relu') %>% \n",
        "  layer_max_pooling_2d(pool_size = c(2, 2), stride = 2) %>%   \n",
        "  layer_flatten() %>% \n",
        "  layer_dense(units = 128, activation = 'relu') %>% \n",
        "  layer_dense(units = 10, activation = 'softmax')\n"
      ],
      "execution_count": null,
      "outputs": []
    }
  ]
}