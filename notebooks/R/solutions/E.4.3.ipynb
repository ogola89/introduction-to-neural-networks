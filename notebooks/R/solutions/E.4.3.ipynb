{
  "nbformat": 4,
  "nbformat_minor": 0,
  "metadata": {
    "colab": {
      "name": "E.4.3.ipynb",
      "provenance": []
    },
    "kernelspec": {
      "name": "ir",
      "display_name": "R"
    },
    "accelerator": "GPU"
  },
  "cells": [
    {
      "cell_type": "code",
      "metadata": {
        "id": "DVGashPhAkOa"
      },
      "source": [
        "epochs <- 40\n",
        "history <- model %>%\n",
        "              fit(x = train_data_gen,\n",
        "              epochs = epochs,\n",
        "              validation_data = val_data_gen)"
      ],
      "execution_count": null,
      "outputs": []
    }
  ]
}