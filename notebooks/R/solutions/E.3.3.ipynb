{
  "nbformat": 4,
  "nbformat_minor": 0,
  "metadata": {
    "colab": {
      "name": "E.3.3.ipynb",
      "provenance": []
    },
    "kernelspec": {
      "name": "ir",
      "display_name": "R"
    },
    "accelerator": "GPU"
  },
  "cells": [
    {
      "cell_type": "code",
      "metadata": {
        "id": "DVGashPhAkOa"
      },
      "source": [
        "history <- model %>% fit(\n",
        "  x = train_images, y = train_labels,\n",
        "  batch_size = 32,\n",
        "  epochs = 10,\n",
        "  validation_split = 0.2\n",
        ")\n",
        "history\n",
        "plot(history)"
      ],
      "execution_count": null,
      "outputs": []
    }
  ]
}