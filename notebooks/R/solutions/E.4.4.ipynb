{
  "nbformat": 4,
  "nbformat_minor": 0,
  "metadata": {
    "colab": {
      "name": "E.4.3.ipynb",
      "provenance": []
    },
    "kernelspec": {
      "name": "ir",
      "display_name": "R"
    },
    "accelerator": "GPU"
  },
  "cells": [
    {
      "cell_type": "code",
      "execution_count": null,
      "metadata": {},
      "outputs": [],
      "source": [
        "# Create model\n",
        "model <- keras_model_sequential() %>%\n",
        "            layer_conv_2d(filters = 32, kernel_size = c(3,3), activation = \"relu\",\n",
        "                          input_shape = c(img_shape, img_shape, 3)) %>%\n",
        "            layer_max_pooling_2d(c(2,2)) %>%\n",
        "\n",
        "            layer_conv_2d(filters = 64, kernel_size = c(3,3), activation = \"relu\") %>%\n",
        "            layer_max_pooling_2d(c(2,2)) %>%\n",
        "\n",
        "            layer_conv_2d(filters = 128, kernel_size = c(3,3), activation = \"relu\") %>%\n",
        "            layer_max_pooling_2d(c(2,2)) %>%\n",
        "\n",
        "            layer_conv_2d(filters = 128, kernel_size = c(3,3), activation = \"relu\") %>%\n",
        "            layer_max_pooling_2d(c(2,2)) %>%    \n",
        "            layer_dropout(0.5) %>%  \n",
        "\n",
        "            layer_flatten() %>%\n",
        "            layer_dense(512, activation = \"relu\") %>%\n",
        "            layer_dense(2, activation = \"softmax\")\n",
        "\n",
        "# Compile the model\n",
        "model %>% compile(optimizer=\"adam\",\n",
        "                  loss = 'sparse_categorical_crossentropy',\n",
        "                  metrics = \"accuracy\")\n",
        "\n",
        "# Print summary\n",
        "model\n",
        "\n",
        "# Fit model\n",
        "epochs <- 40\n",
        "history <- model %>%\n",
        "              fit(x = train_data_gen,\n",
        "              epochs = epochs,\n",
        "              validation_data = val_data_gen)\n",
        "# Print history\n",
        "history\n",
        "\n",
        "# Plot history\n",
        "options(repr.plot.width = 12, repr.plot.height = 6)\n",
        "plot(history)"
      ]
    }
  ]
}