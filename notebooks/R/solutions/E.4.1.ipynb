{
  "nbformat": 4,
  "nbformat_minor": 0,
  "metadata": {
    "colab": {
      "name": "E.4.1.ipynb",
      "provenance": []
    },
    "kernelspec": {
      "name": "ir",
      "display_name": "R"
    },
    "accelerator": "GPU"
  },
  "cells": [
    {
      "cell_type": "code",
      "metadata": {
        "id": "DVGashPhAkOa"
      },
      "source": [
        "model <- keras_model_sequential() %>%\n",
        "            layer_conv_2d(filters = 32, kernel_size = c(3,3), activation = \"relu\",\n",
        "                          input_shape = c(img_shape, img_shape, 3)) %>%\n",
        "            layer_max_pooling_2d(c(2,2)) %>%\n",
        "\n",
        "            layer_conv_2d(filters = 64, kernel_size = c(3,3), activation = \"relu\") %>%\n",
        "            layer_max_pooling_2d(c(2,2)) %>%\n",
        "\n",
        "            layer_conv_2d(filters = 128, kernel_size = c(3,3), activation = \"relu\") %>%\n",
        "            layer_max_pooling_2d(c(2,2)) %>%\n",
        "\n",
        "            layer_conv_2d(filters = 128, kernel_size = c(3,3), activation = \"relu\") %>%\n",
        "            layer_max_pooling_2d(c(2,2)) %>%      \n",
        "\n",
        "            layer_flatten() %>%\n",
        "            layer_dense(512, activation = \"relu\") %>%\n",
        "            layer_dense(2, activation = \"softmax\")"
      ],
      "execution_count": null,
      "outputs": []
    }
  ]
}