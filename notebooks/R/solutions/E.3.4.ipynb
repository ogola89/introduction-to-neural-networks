{
  "nbformat": 4,
  "nbformat_minor": 0,
  "metadata": {
    "colab": {
      "name": "E.3.4.ipynb",
      "provenance": []
    },
    "kernelspec": {
      "name": "ir",
      "display_name": "R"
    },
    "accelerator": "GPU"
  },
  "cells": [
    {
      "cell_type": "code",
      "metadata": {
        "id": "DVGashPhAkOa"
      },
      "source": [
        "scores <- model %>% evaluate(test_images, test_labels)\n",
        "\n",
        "# Output metrics\n",
        "cat('Test loss:', scores[[1]], '\\n')\n",
        "cat('Test accuracy:', scores[[2]], '\\n')"
      ],
      "execution_count": null,
      "outputs": []
    }
  ]
}