{
  "nbformat": 4,
  "nbformat_minor": 0,
  "metadata": {
    "colab": {
      "name": "E.2.3.ipynb",
      "provenance": []
    },
    "kernelspec": {
      "name": "ir",
      "display_name": "R"
    },
    "accelerator": "GPU"
  },
  "cells": [
    {
      "cell_type": "code",
      "metadata": {
        "id": "DVGashPhAkOa"
      },
      "source": [
        "# split datasets\n",
        "c(train_images, train_labels) %<-% cifar10$train\n",
        "c(test_images, test_labels) %<-% cifar10$test\n",
        "\n",
        "# pre-process images\n",
        "train_images <- train_images/255\n",
        "test_images <- test_images/255\n",
        "\n",
        "# create model\n",
        "model <- keras_model_sequential()\n",
        "model %>%\n",
        "  # Input layer\n",
        "  layer_flatten(input_shape = c(32, 32, 3)) %>%\n",
        "  layer_dense(units = 128, activation = 'relu') %>%\n",
        "  layer_dense(units = 10, activation = 'softmax')\n",
        "\n",
        "  # compile model\n",
        "model %>% compile(optimizer = 'adam', \n",
        "                  loss = 'sparse_categorical_crossentropy',\n",
        "                  metrics = c('accuracy'))\n",
        "\n",
        "# fit model\n",
        "history <- model %>% fit(train_images, train_labels, epochs = 5)\n",
        "\n",
        "# print and plot history\n",
        "history\n",
        "plot(history)\n",
        "\n",
        "# evaluate model\n",
        "score <- model %>% evaluate(test_images, test_labels)\n",
        "cat('Test loss:', score[\"loss\"], \"\\n\")\n",
        "cat('Test accuracy:', score[\"accuracy\"], \"\\n\")"
      ],
      "execution_count": null,
      "outputs": []
    }
  ]
}