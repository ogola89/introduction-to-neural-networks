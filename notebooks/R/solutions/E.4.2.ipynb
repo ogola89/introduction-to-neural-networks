{
  "nbformat": 4,
  "nbformat_minor": 0,
  "metadata": {
    "colab": {
      "name": "E.4.2.ipynb",
      "provenance": []
    },
    "kernelspec": {
      "name": "ir",
      "display_name": "R"
    },
    "accelerator": "GPU"
  },
  "cells": [
    {
      "cell_type": "code",
      "metadata": {
        "id": "DVGashPhAkOa"
      },
      "source": [
        "model %>% compile(optimizer=\"adam\",\n",
        "                  loss = 'sparse_categorical_crossentropy',\n",
        "                  metrics = \"accuracy\")"
      ],
      "execution_count": null,
      "outputs": []
    }
  ]
}