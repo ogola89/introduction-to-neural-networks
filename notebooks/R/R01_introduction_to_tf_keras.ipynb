{
  "nbformat": 4,
  "nbformat_minor": 0,
  "metadata": {
    "colab": {
      "name": "R01_celsius_to_fahrenheit.ipynb",
      "provenance": [],
      "collapsed_sections": []
    },
    "kernelspec": {
      "name": "ir",
      "display_name": "R"
    }
  },
  "cells": [
    {
      "cell_type": "markdown",
      "metadata": {
        "id": "HnKx50tv5aZD"
      },
      "source": [
        "##### Copyright 2018 The TensorFlow Authors."
      ]
    },
    {
      "cell_type": "code",
      "metadata": {
        "cellView": "form",
        "id": "IwtS_OXU5cWG"
      },
      "source": [
        "#@title Licensed under the Apache License, Version 2.0 (the \"License\");\n",
        "# you may not use this file except in compliance with the License.\n",
        "# You may obtain a copy of the License at\n",
        "#\n",
        "# https://www.apache.org/licenses/LICENSE-2.0\n",
        "#\n",
        "# Unless required by applicable law or agreed to in writing, software\n",
        "# distributed under the License is distributed on an \"AS IS\" BASIS,\n",
        "# WITHOUT WARRANTIES OR CONDITIONS OF ANY KIND, either express or implied.\n",
        "# See the License for the specific language governing permissions and\n",
        "# limitations under the License."
      ],
      "execution_count": null,
      "outputs": []
    },
    {
      "cell_type": "markdown",
      "metadata": {
        "id": "YHI3vyhv5p85"
      },
      "source": [
        "# The Basics: Training Your First Model"
      ]
    },
    {
      "cell_type": "markdown",
      "metadata": {
        "id": "_wJ2E7jV5tN5"
      },
      "source": [
        "<table class=\"tfo-notebook-buttons\" align=\"left\">\n",
        "  <td>\n",
        "    <a target=\"_blank\" href=\"https://colab.research.google.com/github/rses-dl-course/rses-dl-course.github.io/blob/master/notebooks/R/R01_introduction_to_tf_keras.ipynb\"><img src=\"https://www.tensorflow.org/images/colab_logo_32px.png\" />Run in Google Colab</a>\n",
        "  </td>\n",
        "  <td>\n",
        "    <a target=\"_blank\" href=\"https://github.com/rses-dl-course/rses-dl-course.github.io/blob/master/notebooks/R/R01_introduction_to_tf_keras.ipynb\"><img src=\"https://www.tensorflow.org/images/GitHub-Mark-32px.png\" />View source on GitHub</a>\n",
        "  </td>\n",
        "</table>"
      ]
    },
    {
      "cell_type": "markdown",
      "metadata": {
        "id": "zdJL5UheS5yy"
      },
      "source": [
        "Welcome to this Colab where you will train your first Machine Learning model!\n",
        "\n",
        "We'll try to keep things simple here, and only introduce basic concepts. Later Colabs will cover more advanced problems.\n",
        "\n",
        "The problem we will solve is to convert from Celsius to Fahrenheit, where the approximate formula is:\n",
        "\n",
        "$$ f = c \\times 1.8 + 32 $$\n",
        "\n",
        "\n",
        "Of course, it would be simple enough to create a conventional R function that directly performs this calculation, but that wouldn't be machine learning.\n",
        "\n",
        "\n",
        "Instead, we will use some sample Celsius values (0, 8, 15, 22, 38) and their corresponding Fahrenheit values (32, 46, 59, 72, 100) to train a Keras model using a TensorFlow backend that figures out the above formula through the training process."
      ]
    },
    {
      "cell_type": "markdown",
      "metadata": {
        "id": "XHx57rQES5y0"
      },
      "source": [
        "## Install and load dependencies\n",
        "\n",
        "First, you'll need to install R package Keras which will also install TensorFlow."
      ]
    },
    {
      "cell_type": "code",
      "metadata": {
        "id": "nvHtCuB1TNHd"
      },
      "source": [
        "install.packages(\"keras\")\n"
      ],
      "execution_count": null,
      "outputs": []
    },
    {
      "cell_type": "markdown",
      "metadata": {
        "id": "a_hw7tAzYFxJ"
      },
      "source": [
        "Let's also install the `ggplot2` library to plot performance of our models"
      ]
    },
    {
      "cell_type": "code",
      "metadata": {
        "id": "-r35cOcXRWoZ"
      },
      "source": [
        "install.packages(\"ggplot2\")"
      ],
      "execution_count": null,
      "outputs": []
    },
    {
      "cell_type": "markdown",
      "metadata": {
        "id": "Ce1npp9kpnVy"
      },
      "source": [
        "Once installed, load the `keras` package"
      ]
    },
    {
      "cell_type": "code",
      "metadata": {
        "id": "LkzNLKxp_LFA"
      },
      "source": [
        "library(keras)"
      ],
      "execution_count": null,
      "outputs": []
    },
    {
      "cell_type": "markdown",
      "metadata": {
        "id": "ARwHBtGpZhvQ"
      },
      "source": [
        "Installing the `keras` package also installs packages `reticulate` for interacting with python and `tensorflow` to interact with tensorflow. While python and tensorflow are already installed on Codelab, you will need to ensure they also are on your own system to run the code in these tutorials locally.\n",
        "\n",
        "To install python and tensorflow for use with keras, use function `install_keras()`.  If you have NVIDIA GPUs and wish to make use of them, use `install_keras(tensorflow = \"gpu\")`. Have a look at the [`keras` r package documentation ](https://keras.rstudio.com/reference/install_keras.html) for details on instaling Keras and the Tensorflow backend."
      ]
    },
    {
      "cell_type": "markdown",
      "metadata": {
        "id": "tXPaKEaRqnCc"
      },
      "source": [
        "## Set up training data\n",
        "\n",
        "As we saw before, supervised Machine Learning is all about figuring out an algorithm given a set of inputs and outputs. Since the task in this Codelab is to create a model that can give the temperature in Fahrenheit when given the degrees in Celsius, we create two vectors of temperature values, `celsius_q` and `fahrenheit_a`, that we can use to train our model."
      ]
    },
    {
      "cell_type": "code",
      "metadata": {
        "id": "NkgTG6V8Aq5f"
      },
      "source": [
        "celsius_q <- c(-40, -10, 0, 8, 15, 22, 38)\n",
        "fahrenheit_a <- c(-40,  14, 32, 46, 59, 72, 100)"
      ],
      "execution_count": null,
      "outputs": []
    },
    {
      "cell_type": "code",
      "metadata": {
        "id": "4EhSZ6kmIpSe"
      },
      "source": [
        "for(i in seq_along(celsius_q)){\n",
        "  print(paste(celsius_q[i], \"degrees Celsius =\", fahrenheit_a[i], \"degrees Fahrenheit\"))\n",
        "}"
      ],
      "execution_count": null,
      "outputs": []
    },
    {
      "cell_type": "markdown",
      "metadata": {
        "id": "HdeTQk5NrU7X"
      },
      "source": [
        "## Some Machine Learning terminology\n",
        "\n",
        " - **Feature** — The input(s) to our model. In this case, a single value — the degrees in Celsius.\n",
        "\n",
        " - **Labels** — The output our model predicts. In this case, a single value — the degrees in Fahrenheit.\n",
        "\n",
        " - **Example** — A pair of inputs/outputs used during training. In our case a pair of values from `celsius_q` and `fahrenheit_a` at a specific index, such as `(22,72)`."
      ]
    },
    {
      "cell_type": "markdown",
      "metadata": {
        "id": "VM7_9Klvq7MO"
      },
      "source": [
        "## Create the model\n",
        "\n",
        "Next, create the model. We will use the simplest possible model we can, a Dense network. Since the problem is straightforward, this network will require only a single layer, with a single neuron (equal to the size of our output which is a single number, degrees Fahrenheit).\n",
        "\n",
        "### Build a model with a single layer\n",
        "\n",
        "In Keras, you assemble layers to build models. A model is (usually) a graph of layers. The most common type of model is a linear stack of layers: the sequential model.\n",
        "\n",
        "We begin by creating a sequential model using function `keras_model_sequential()`and then adding layers using the pipe (`%>%`) operator:\n",
        "\n",
        "We'll create our single dense layer with function `layer_dense()` with the following configuration:\n",
        "\n",
        "*   `input_shape=[1]` — This specifies that the input to this layer is a single value. That is, the shape is a one-dimensional array with one member. Since this is the first (and only) layer, that input shape is the input shape of the entire model. The single value is a floating point number, representing degrees Celsius.\n",
        "\n",
        "*   `units=1` — This specifies the number of neurons in the layer. The number of neurons defines how many internal variables the layer has to try to learn how to solve the problem (more later). Since this is the final layer, it is also the size of the model's output — a single float value representing degrees Fahrenheit. (In a multi-layered network, the size and shape of the layer would need to match the `input_shape` of the next layer.)\n"
      ]
    },
    {
      "cell_type": "code",
      "metadata": {
        "id": "9SL6_f2KM1fT"
      },
      "source": [
        "model <- keras_model_sequential() %>%\n",
        "    layer_dense(units = 1, input_shape = 1)"
      ],
      "execution_count": null,
      "outputs": []
    },
    {
      "cell_type": "markdown",
      "metadata": {
        "id": "0Yxm0TmTQCN_"
      },
      "source": [
        "Note that the `input_shape` argument can take a vector for inputs with dimensions greater than 1."
      ]
    },
    {
      "cell_type": "code",
      "metadata": {
        "id": "d7-XnTItNDwc"
      },
      "source": [
        "model "
      ],
      "execution_count": null,
      "outputs": []
    },
    {
      "cell_type": "markdown",
      "metadata": {
        "id": "kiZG7uhm8qCF"
      },
      "source": [
        "## Compile the model, with loss and optimizer functions\n",
        "\n",
        "Before training, the model has to be compiled. When compiled for training, the model is given:\n",
        "\n",
        "- **Loss function** — A way of measuring how far off predictions are from the desired outcome. (The measured difference is called the \"loss\".)\n",
        "\n",
        "- **Optimizer function** — A way of adjusting internal values in order to reduce the loss.\n"
      ]
    },
    {
      "cell_type": "code",
      "metadata": {
        "id": "8eF1DRSEUPoT"
      },
      "source": [
        "model %>%\n",
        "    compile(optimizer = optimizer_adam(0.1), \n",
        "    loss='mean_squared_error')"
      ],
      "execution_count": null,
      "outputs": []
    },
    {
      "cell_type": "markdown",
      "metadata": {
        "id": "17M3Pqv4P52R"
      },
      "source": [
        "These are used during training (`fit()`, below) to first calculate the loss at each point, and then improve it. In fact, the act of calculating the current loss of a model and then improving it is precisely what training is.\n",
        "\n",
        "During training, the optimizer function is used to calculate adjustments to the model's internal variables. The goal is to adjust the internal variables until the model (which is really a math function) mirrors the actual equation for converting Celsius to Fahrenheit.\n",
        "\n",
        "TensorFlow uses numerical analysis to perform this tuning, and all this complexity is hidden from you so we will not go into the details here. What is useful to know about these parameters are:\n",
        "\n",
        "The loss function ([mean squared error](https://en.wikipedia.org/wiki/Mean_squared_error)) and the optimizer ([Adam](https://machinelearningmastery.com/adam-optimization-algorithm-for-deep-learning/)) used here are standard for simple models like this one, but many others are available. It is not important to know how these specific functions work at this point.\n",
        "\n",
        "One part of the Optimizer you may need to think about when building your own models is the learning rate (`0.1` in the code above). This is the step size taken when adjusting values in the model. If the value is too small, it will take too many iterations to train the model. Too large, and accuracy goes down. Finding a good value often involves some trial and error, but the range is usually within 0.001 (default), and 0.1"
      ]
    },
    {
      "cell_type": "markdown",
      "metadata": {
        "id": "c-Jk4dG91dvD"
      },
      "source": [
        "## Train the model\n",
        "\n",
        "Train the model by calling the `fit` method.\n",
        "\n",
        "During training, the model takes in Celsius values, performs a calculation using the current internal variables (called \"weights\") and outputs values which are meant to be the Fahrenheit equivalent. Since the weights are initially set randomly, the output will not be close to the correct value. The difference between the actual output and the desired output is calculated using the loss function, and the optimizer function directs how the weights should be adjusted.\n",
        "\n",
        "This cycle of calculate, compare, adjust is controlled by the `fit` method. The first argument is the inputs, the second argument is the desired outputs. The `epochs` argument specifies how many times this cycle should be run, and the `verbose` argument controls how much output the method produces."
      ]
    },
    {
      "cell_type": "code",
      "metadata": {
        "id": "cLEyIJAQQeB4"
      },
      "source": [
        "history <- model %>% fit(\n",
        "    celsius_q, \n",
        "    fahrenheit_a,\n",
        "    epochs = 500,\n",
        ")\n",
        "print(\"Finished training the model\")"
      ],
      "execution_count": null,
      "outputs": []
    },
    {
      "cell_type": "markdown",
      "metadata": {
        "id": "GFcIU2-SdCrI"
      },
      "source": [
        "In later sections, we will go into more detail on what actually happens here and how a Dense layer actually works internally."
      ]
    },
    {
      "cell_type": "markdown",
      "metadata": {
        "id": "0-QsNCLD4MJZ"
      },
      "source": [
        "## Display training statistics\n",
        "\n",
        "The `fit` method returns a history object which we have assigned to the object named `history`. We can use this object to plot how the loss of our model goes down after each training epoch. A high loss means that the Fahrenheit degrees the model predicts is far from the corresponding value in `fahrenheit_a`.\n",
        "\n",
        "The default plot function uses installed package [ggplot2](https://ggplot2.tidyverse.org/) to visualize this (you could use another tool). As you can see, our model improves very quickly at first, and then has a steady, slow improvement until it is very near \"perfect\" towards the end.\n"
      ]
    },
    {
      "cell_type": "code",
      "metadata": {
        "id": "dW_zQQoIRduW"
      },
      "source": [
        "plot(history)"
      ],
      "execution_count": null,
      "outputs": []
    },
    {
      "cell_type": "markdown",
      "metadata": {
        "id": "LtQGDMob5LOD"
      },
      "source": [
        "## Use the model to predict values\n",
        "\n",
        "Now you have a model that has been trained to learn the relationship between `celsius_q` and `fahrenheit_a`. You can use the predict method to have it calculate the Fahrenheit degrees for a previously unknown Celsius degrees.\n",
        "\n",
        "So, for example, if the Celsius value is 100, what do you think the Fahrenheit result will be? Take a guess before you run this code."
      ]
    },
    {
      "cell_type": "code",
      "metadata": {
        "id": "tz-32ZEBQhDZ"
      },
      "source": [
        "model %>%\n",
        "    predict(100)"
      ],
      "execution_count": null,
      "outputs": []
    },
    {
      "cell_type": "markdown",
      "metadata": {
        "id": "jApk6tZ1fBg1"
      },
      "source": [
        "The correct answer is $100 \\times 1.8 + 32 = 212$, so our model is doing really well.\n",
        "\n",
        "### To review\n",
        "\n",
        "\n",
        "*   We created a model with a Dense layer\n",
        "*   We trained it with 3500 examples (7 pairs, over 500 epochs).\n",
        "\n",
        "Our model tuned the variables (weights) in the Dense layer until it was able to return the correct Fahrenheit value for any Celsius value. (Remember, 100 Celsius was not part of our training data.)\n"
      ]
    },
    {
      "cell_type": "markdown",
      "metadata": {
        "id": "zRrOky5gm20Z"
      },
      "source": [
        "## Looking at the layer weights\n",
        "\n",
        "Finally, let's print the internal variables of the Dense layer. "
      ]
    },
    {
      "cell_type": "code",
      "metadata": {
        "id": "CRiQmgTsQnPl"
      },
      "source": [
        "get_weights(model) %>% format(digits = 2)"
      ],
      "execution_count": null,
      "outputs": []
    },
    {
      "cell_type": "markdown",
      "metadata": {
        "id": "RSplSnMvnWC-"
      },
      "source": [
        "The first variable is close to ~1.8 and the second to ~32. These values (1.8 and 32) are the actual variables in the real conversion formula.\n",
        "\n",
        "This is really close to the values in the conversion formula. We'll explain this in an upcoming session where we show how a Dense layer works, but for a single neuron with a single input and a single output, the internal math looks the same as [the equation for a line](https://en.wikipedia.org/wiki/Linear_equation#Slope%E2%80%93intercept_form), $y = mx + b$, which has the same form as the conversion equation, $f = 1.8c + 32$.\n",
        "\n",
        "Since the form is the same, the variables should converge on the standard values of 1.8 and 32, which is exactly what happened.\n",
        "\n",
        "With additional neurons, additional inputs, and additional outputs, the formula becomes much more complex, but the idea is the same.\n",
        "\n",
        "### A little experiment\n",
        "\n",
        "Just for fun, what if we created more Dense layers with different units, which therefore also has more variables?"
      ]
    },
    {
      "cell_type": "code",
      "metadata": {
        "id": "XTrziEUyS1bs"
      },
      "source": [
        "model <- keras_model_sequential() %>%\n",
        "    layer_dense(units = 4, input_shape = 1) %>%\n",
        "    layer_dense(units = 4) %>%\n",
        "    layer_dense(units = 1)\n",
        "\n",
        "model %>%\n",
        "    compile(optimizer = optimizer_adam(0.1), \n",
        "    loss='mean_squared_error')\n",
        "\n",
        "history <- model %>% fit(\n",
        "    celsius_q, \n",
        "    fahrenheit_a,\n",
        "    epochs = 500,\n",
        "    verbose = FALSE\n",
        ")\n",
        "print(\"Finished training the model\")\n",
        "\n",
        "print(paste(\"Model predicts that 100 degrees Celsius is:\", model %>% predict(100), \"degrees Fahrenheit\"))\n",
        "\n",
        "model %>% get_weights"
      ],
      "execution_count": null,
      "outputs": []
    },
    {
      "cell_type": "markdown",
      "metadata": {
        "pycharm": {
          "name": "#%% md\n"
        },
        "id": "j-vg0nnCX8Uc"
      },
      "source": [
        "## E1.1 - Exercise: Linear regression (5 mins)\n"
      ]
    },
    {
      "cell_type": "markdown",
      "metadata": {
        "id": "Ik5Gkay9X8Uc"
      },
      "source": [
        "Use what you've learned in this lab to create a model for fitting our set of randomly generated data below. "
      ]
    },
    {
      "cell_type": "code",
      "metadata": {
        "id": "M-_b5yWPYpiJ"
      },
      "source": [
        "# We're trying to map our model to the equation y = mx + c + random noise\n",
        "n <- 30\n",
        "x_set <- 1:n\n",
        "m <- runif(1, min = 1, max = 5)\n",
        "c <- runif(1, min = 1, max = 5)\n",
        "noise <- runif(n, min = -0.5, max = 0.5) * 10\n",
        "y_set <- m * x_set + c + noise"
      ],
      "execution_count": null,
      "outputs": []
    },
    {
      "cell_type": "code",
      "metadata": {
        "id": "2IFTRkeba-v_"
      },
      "source": [
        "# Let's plot our dataset\n",
        "library(ggplot2)\n",
        "plot_data <- data.frame(x_set, y_set) \n",
        "\n",
        "plot_data %>%\n",
        "  ggplot(aes(x = x_set, y = y_set)) +\n",
        "    geom_point()"
      ],
      "execution_count": null,
      "outputs": []
    },
    {
      "cell_type": "markdown",
      "metadata": {
        "id": "uRxWdIbKcMi_"
      },
      "source": [
        "**Create your model in the code box below:**\n",
        "* Single Dense layer with 1 `input` and 1 `output`\n",
        "* Compile the model with loss: `mean_squared_error` and `Adam` optimizer\n",
        "* Fit the model to our dataset `x_set` and `y_set` for 500 epochs."
      ]
    },
    {
      "cell_type": "code",
      "metadata": {
        "id": "CHzmBmZ7dF8T"
      },
      "source": [
        "#TODO - Create, compile and train a model to fit the data\n"
      ],
      "execution_count": null,
      "outputs": []
    },
    {
      "cell_type": "code",
      "metadata": {
        "id": "eNqvPgO4dMn-"
      },
      "source": [
        "plot_data$y_pred <- predict(model, x = plot_data$x_set)\n",
        "\n",
        "plot_data %>%\n",
        "  ggplot(aes(x = x_set, y = y_set)) +\n",
        "    geom_point() +\n",
        "    geom_line(aes(x = x_set, y = y_pred))"
      ],
      "execution_count": null,
      "outputs": []
    },
    {
      "cell_type": "markdown",
      "metadata": {
        "id": "xrbDuQ5NeWqO"
      },
      "source": [
        "### E1.1 Solution\n",
        "\n",
        "The solution for the exercise can be found [here](https://colab.research.google.com/github/rses-dl-course/rses-dl-course.github.io/blob/master/notebooks/R/solutions/E.1.1.ipynb)"
      ]
    }
  ]
}